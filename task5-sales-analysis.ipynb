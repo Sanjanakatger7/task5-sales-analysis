{
 "cells": [
  {
   "cell_type": "markdown",
   "id": "331afec0-7806-44e5-86c0-632e125eeb9b",
   "metadata": {},
   "source": [
    "# Task 5 — Sales Data Analysis\n",
    "Load `sales.csv`, compute Sales = Quantity * UnitPrice, group, and plot results.\n"
   ]
  },
  {
   "cell_type": "code",
   "execution_count": 4,
   "id": "43a30c02-e72d-445f-ae33-6c056b99ffad",
   "metadata": {},
   "outputs": [
    {
     "name": "stdout",
     "output_type": "stream",
     "text": [
      "Current folder: C:\\Users\\DELL\n",
      "Files here: ['.anaconda', '.bash_history', '.conda', '.condarc', '.continuum', '.ipynb_checkpoints', '.ipython', '.jupyter', '.matplotlib', '.ms-ad', '.vscode', '3D Objects', 'anaconda_projects', 'AppData', 'Application Data', 'Contacts', 'Cookies', 'Desktop', 'Documents', 'Downloads', 'Favorites', 'IntelGraphicsProfiles', 'Links', 'Local Settings', 'Music', 'My Documents', 'NetHood', 'NTUSER.DAT', 'ntuser.dat.LOG1', 'ntuser.dat.LOG2', 'NTUSER.DAT{e48e8cf3-7d2e-11f0-834b-d621ead90daf}.TM.blf', 'NTUSER.DAT{e48e8cf3-7d2e-11f0-834b-d621ead90daf}.TMContainer00000000000000000001.regtrans-ms', 'NTUSER.DAT{e48e8cf3-7d2e-11f0-834b-d621ead90daf}.TMContainer00000000000000000002.regtrans-ms', 'ntuser.ini', 'OneDrive', 'Pictures', 'PrintHood', 'react_same_proj', 'Recent', 'sales.csv', 'Saved Games', 'Searches', 'SendTo', 'Start Menu', 'task5-sales-analysis.ipynb', 'Templates', 'Untitled.ipynb', 'Videos']\n"
     ]
    }
   ],
   "source": [
    "# Cell 2 - imports and quick checks\n",
    "import os\n",
    "from pathlib import Path\n",
    "import pandas as pd\n",
    "import matplotlib.pyplot as plt\n",
    "import seaborn as sns\n",
    "sns.set(style=\"whitegrid\")\n",
    "%matplotlib inline\n",
    "\n",
    "print(\"Current folder:\", os.getcwd())\n",
    "print(\"Files here:\", os.listdir(\".\"))\n"
   ]
  },
  {
   "cell_type": "code",
   "execution_count": 5,
   "id": "03ba7237-b4ea-44de-9848-4c81746e518d",
   "metadata": {},
   "outputs": [
    {
     "name": "stdout",
     "output_type": "stream",
     "text": [
      "Loaded sales.csv rows: 12\n"
     ]
    },
    {
     "data": {
      "text/html": [
       "<div>\n",
       "<style scoped>\n",
       "    .dataframe tbody tr th:only-of-type {\n",
       "        vertical-align: middle;\n",
       "    }\n",
       "\n",
       "    .dataframe tbody tr th {\n",
       "        vertical-align: top;\n",
       "    }\n",
       "\n",
       "    .dataframe thead th {\n",
       "        text-align: right;\n",
       "    }\n",
       "</style>\n",
       "<table border=\"1\" class=\"dataframe\">\n",
       "  <thead>\n",
       "    <tr style=\"text-align: right;\">\n",
       "      <th></th>\n",
       "      <th>Date</th>\n",
       "      <th>Region</th>\n",
       "      <th>Product</th>\n",
       "      <th>Quantity</th>\n",
       "      <th>UnitPrice</th>\n",
       "    </tr>\n",
       "  </thead>\n",
       "  <tbody>\n",
       "    <tr>\n",
       "      <th>0</th>\n",
       "      <td>2025-01-05</td>\n",
       "      <td>North</td>\n",
       "      <td>Widget A</td>\n",
       "      <td>10</td>\n",
       "      <td>9.99</td>\n",
       "    </tr>\n",
       "    <tr>\n",
       "      <th>1</th>\n",
       "      <td>2025-01-12</td>\n",
       "      <td>South</td>\n",
       "      <td>Widget B</td>\n",
       "      <td>5</td>\n",
       "      <td>19.50</td>\n",
       "    </tr>\n",
       "    <tr>\n",
       "      <th>2</th>\n",
       "      <td>2025-02-03</td>\n",
       "      <td>North</td>\n",
       "      <td>Widget C</td>\n",
       "      <td>8</td>\n",
       "      <td>12.00</td>\n",
       "    </tr>\n",
       "    <tr>\n",
       "      <th>3</th>\n",
       "      <td>2025-02-15</td>\n",
       "      <td>East</td>\n",
       "      <td>Widget A</td>\n",
       "      <td>7</td>\n",
       "      <td>9.99</td>\n",
       "    </tr>\n",
       "    <tr>\n",
       "      <th>4</th>\n",
       "      <td>2025-03-01</td>\n",
       "      <td>West</td>\n",
       "      <td>Widget B</td>\n",
       "      <td>12</td>\n",
       "      <td>19.50</td>\n",
       "    </tr>\n",
       "  </tbody>\n",
       "</table>\n",
       "</div>"
      ],
      "text/plain": [
       "        Date Region   Product  Quantity  UnitPrice\n",
       "0 2025-01-05  North  Widget A        10       9.99\n",
       "1 2025-01-12  South  Widget B         5      19.50\n",
       "2 2025-02-03  North  Widget C         8      12.00\n",
       "3 2025-02-15   East  Widget A         7       9.99\n",
       "4 2025-03-01   West  Widget B        12      19.50"
      ]
     },
     "execution_count": 5,
     "metadata": {},
     "output_type": "execute_result"
    }
   ],
   "source": [
    "# Cell 3 - load CSV, with clear errors if missing or empty\n",
    "p = Path(\"sales.csv\")\n",
    "if not p.exists():\n",
    "    raise FileNotFoundError(f\"sales.csv not found in {os.getcwd()}. Please save the CSV there.\")\n",
    "if p.stat().st_size == 0:\n",
    "    raise ValueError(\"sales.csv exists but is empty. Please re-create it with sample data.\")\n",
    "\n",
    "# Read and parse Date column\n",
    "df = pd.read_csv(p, parse_dates=[\"Date\"])\n",
    "print(\"Loaded sales.csv rows:\", len(df))\n",
    "df.head()\n"
   ]
  },
  {
   "cell_type": "code",
   "execution_count": 6,
   "id": "97d9cd7b-0a71-4594-9885-a22ee568565c",
   "metadata": {},
   "outputs": [
    {
     "data": {
      "text/html": [
       "<div>\n",
       "<style scoped>\n",
       "    .dataframe tbody tr th:only-of-type {\n",
       "        vertical-align: middle;\n",
       "    }\n",
       "\n",
       "    .dataframe tbody tr th {\n",
       "        vertical-align: top;\n",
       "    }\n",
       "\n",
       "    .dataframe thead th {\n",
       "        text-align: right;\n",
       "    }\n",
       "</style>\n",
       "<table border=\"1\" class=\"dataframe\">\n",
       "  <thead>\n",
       "    <tr style=\"text-align: right;\">\n",
       "      <th></th>\n",
       "      <th>Date</th>\n",
       "      <th>Region</th>\n",
       "      <th>Product</th>\n",
       "      <th>Quantity</th>\n",
       "      <th>UnitPrice</th>\n",
       "      <th>Sales</th>\n",
       "    </tr>\n",
       "  </thead>\n",
       "  <tbody>\n",
       "    <tr>\n",
       "      <th>0</th>\n",
       "      <td>2025-01-05</td>\n",
       "      <td>North</td>\n",
       "      <td>Widget A</td>\n",
       "      <td>10</td>\n",
       "      <td>9.99</td>\n",
       "      <td>99.90</td>\n",
       "    </tr>\n",
       "    <tr>\n",
       "      <th>1</th>\n",
       "      <td>2025-01-12</td>\n",
       "      <td>South</td>\n",
       "      <td>Widget B</td>\n",
       "      <td>5</td>\n",
       "      <td>19.50</td>\n",
       "      <td>97.50</td>\n",
       "    </tr>\n",
       "    <tr>\n",
       "      <th>2</th>\n",
       "      <td>2025-02-03</td>\n",
       "      <td>North</td>\n",
       "      <td>Widget C</td>\n",
       "      <td>8</td>\n",
       "      <td>12.00</td>\n",
       "      <td>96.00</td>\n",
       "    </tr>\n",
       "    <tr>\n",
       "      <th>3</th>\n",
       "      <td>2025-02-15</td>\n",
       "      <td>East</td>\n",
       "      <td>Widget A</td>\n",
       "      <td>7</td>\n",
       "      <td>9.99</td>\n",
       "      <td>69.93</td>\n",
       "    </tr>\n",
       "    <tr>\n",
       "      <th>4</th>\n",
       "      <td>2025-03-01</td>\n",
       "      <td>West</td>\n",
       "      <td>Widget B</td>\n",
       "      <td>12</td>\n",
       "      <td>19.50</td>\n",
       "      <td>234.00</td>\n",
       "    </tr>\n",
       "  </tbody>\n",
       "</table>\n",
       "</div>"
      ],
      "text/plain": [
       "        Date Region   Product  Quantity  UnitPrice   Sales\n",
       "0 2025-01-05  North  Widget A        10       9.99   99.90\n",
       "1 2025-01-12  South  Widget B         5      19.50   97.50\n",
       "2 2025-02-03  North  Widget C         8      12.00   96.00\n",
       "3 2025-02-15   East  Widget A         7       9.99   69.93\n",
       "4 2025-03-01   West  Widget B        12      19.50  234.00"
      ]
     },
     "execution_count": 6,
     "metadata": {},
     "output_type": "execute_result"
    }
   ],
   "source": [
    "# Cell 4 - ensure numeric and create Sales column\n",
    "df['Quantity'] = pd.to_numeric(df['Quantity'], errors='coerce')\n",
    "df['UnitPrice'] = pd.to_numeric(df['UnitPrice'], errors='coerce')\n",
    "df['Sales'] = df['Quantity'] * df['UnitPrice']\n",
    "\n",
    "# drop rows where Sales could not be computed\n",
    "df = df.dropna(subset=['Sales']).reset_index(drop=True)\n",
    "df.head()\n"
   ]
  },
  {
   "cell_type": "code",
   "execution_count": 7,
   "id": "dd3f2d0d-b36c-424b-886f-a566e611ae65",
   "metadata": {},
   "outputs": [
    {
     "name": "stdout",
     "output_type": "stream",
     "text": [
      "Shape (rows,cols): (12, 6)\n",
      "<class 'pandas.core.frame.DataFrame'>\n",
      "RangeIndex: 12 entries, 0 to 11\n",
      "Data columns (total 6 columns):\n",
      " #   Column     Non-Null Count  Dtype         \n",
      "---  ------     --------------  -----         \n",
      " 0   Date       12 non-null     datetime64[ns]\n",
      " 1   Region     12 non-null     object        \n",
      " 2   Product    12 non-null     object        \n",
      " 3   Quantity   12 non-null     int64         \n",
      " 4   UnitPrice  12 non-null     float64       \n",
      " 5   Sales      12 non-null     float64       \n",
      "dtypes: datetime64[ns](1), float64(2), int64(1), object(2)\n",
      "memory usage: 708.0+ bytes\n"
     ]
    },
    {
     "data": {
      "text/plain": [
       "None"
      ]
     },
     "metadata": {},
     "output_type": "display_data"
    },
    {
     "data": {
      "text/html": [
       "<div>\n",
       "<style scoped>\n",
       "    .dataframe tbody tr th:only-of-type {\n",
       "        vertical-align: middle;\n",
       "    }\n",
       "\n",
       "    .dataframe tbody tr th {\n",
       "        vertical-align: top;\n",
       "    }\n",
       "\n",
       "    .dataframe thead th {\n",
       "        text-align: right;\n",
       "    }\n",
       "</style>\n",
       "<table border=\"1\" class=\"dataframe\">\n",
       "  <thead>\n",
       "    <tr style=\"text-align: right;\">\n",
       "      <th></th>\n",
       "      <th>Date</th>\n",
       "      <th>Region</th>\n",
       "      <th>Product</th>\n",
       "      <th>Quantity</th>\n",
       "      <th>UnitPrice</th>\n",
       "      <th>Sales</th>\n",
       "    </tr>\n",
       "  </thead>\n",
       "  <tbody>\n",
       "    <tr>\n",
       "      <th>count</th>\n",
       "      <td>12</td>\n",
       "      <td>12</td>\n",
       "      <td>12</td>\n",
       "      <td>12.000000</td>\n",
       "      <td>12.00000</td>\n",
       "      <td>12.000000</td>\n",
       "    </tr>\n",
       "    <tr>\n",
       "      <th>unique</th>\n",
       "      <td>NaN</td>\n",
       "      <td>4</td>\n",
       "      <td>3</td>\n",
       "      <td>NaN</td>\n",
       "      <td>NaN</td>\n",
       "      <td>NaN</td>\n",
       "    </tr>\n",
       "    <tr>\n",
       "      <th>top</th>\n",
       "      <td>NaN</td>\n",
       "      <td>North</td>\n",
       "      <td>Widget A</td>\n",
       "      <td>NaN</td>\n",
       "      <td>NaN</td>\n",
       "      <td>NaN</td>\n",
       "    </tr>\n",
       "    <tr>\n",
       "      <th>freq</th>\n",
       "      <td>NaN</td>\n",
       "      <td>4</td>\n",
       "      <td>4</td>\n",
       "      <td>NaN</td>\n",
       "      <td>NaN</td>\n",
       "      <td>NaN</td>\n",
       "    </tr>\n",
       "    <tr>\n",
       "      <th>mean</th>\n",
       "      <td>2025-03-29 22:00:00</td>\n",
       "      <td>NaN</td>\n",
       "      <td>NaN</td>\n",
       "      <td>7.666667</td>\n",
       "      <td>13.83000</td>\n",
       "      <td>100.010000</td>\n",
       "    </tr>\n",
       "    <tr>\n",
       "      <th>min</th>\n",
       "      <td>2025-01-05 00:00:00</td>\n",
       "      <td>NaN</td>\n",
       "      <td>NaN</td>\n",
       "      <td>2.000000</td>\n",
       "      <td>9.99000</td>\n",
       "      <td>36.000000</td>\n",
       "    </tr>\n",
       "    <tr>\n",
       "      <th>25%</th>\n",
       "      <td>2025-02-12 00:00:00</td>\n",
       "      <td>NaN</td>\n",
       "      <td>NaN</td>\n",
       "      <td>4.750000</td>\n",
       "      <td>9.99000</td>\n",
       "      <td>67.432500</td>\n",
       "    </tr>\n",
       "    <tr>\n",
       "      <th>50%</th>\n",
       "      <td>2025-03-23 00:00:00</td>\n",
       "      <td>NaN</td>\n",
       "      <td>NaN</td>\n",
       "      <td>7.500000</td>\n",
       "      <td>12.00000</td>\n",
       "      <td>96.750000</td>\n",
       "    </tr>\n",
       "    <tr>\n",
       "      <th>75%</th>\n",
       "      <td>2025-05-23 06:00:00</td>\n",
       "      <td>NaN</td>\n",
       "      <td>NaN</td>\n",
       "      <td>10.250000</td>\n",
       "      <td>19.50000</td>\n",
       "      <td>114.000000</td>\n",
       "    </tr>\n",
       "    <tr>\n",
       "      <th>max</th>\n",
       "      <td>2025-07-01 00:00:00</td>\n",
       "      <td>NaN</td>\n",
       "      <td>NaN</td>\n",
       "      <td>15.000000</td>\n",
       "      <td>19.50000</td>\n",
       "      <td>234.000000</td>\n",
       "    </tr>\n",
       "    <tr>\n",
       "      <th>std</th>\n",
       "      <td>NaN</td>\n",
       "      <td>NaN</td>\n",
       "      <td>NaN</td>\n",
       "      <td>3.915780</td>\n",
       "      <td>4.27438</td>\n",
       "      <td>54.239611</td>\n",
       "    </tr>\n",
       "  </tbody>\n",
       "</table>\n",
       "</div>"
      ],
      "text/plain": [
       "                       Date Region   Product   Quantity  UnitPrice       Sales\n",
       "count                    12     12        12  12.000000   12.00000   12.000000\n",
       "unique                  NaN      4         3        NaN        NaN         NaN\n",
       "top                     NaN  North  Widget A        NaN        NaN         NaN\n",
       "freq                    NaN      4         4        NaN        NaN         NaN\n",
       "mean    2025-03-29 22:00:00    NaN       NaN   7.666667   13.83000  100.010000\n",
       "min     2025-01-05 00:00:00    NaN       NaN   2.000000    9.99000   36.000000\n",
       "25%     2025-02-12 00:00:00    NaN       NaN   4.750000    9.99000   67.432500\n",
       "50%     2025-03-23 00:00:00    NaN       NaN   7.500000   12.00000   96.750000\n",
       "75%     2025-05-23 06:00:00    NaN       NaN  10.250000   19.50000  114.000000\n",
       "max     2025-07-01 00:00:00    NaN       NaN  15.000000   19.50000  234.000000\n",
       "std                     NaN    NaN       NaN   3.915780    4.27438   54.239611"
      ]
     },
     "metadata": {},
     "output_type": "display_data"
    }
   ],
   "source": [
    "# Cell 5 - quick info and stats\n",
    "print(\"Shape (rows,cols):\", df.shape)\n",
    "display(df.info())\n",
    "display(df.describe(include='all'))\n"
   ]
  },
  {
   "cell_type": "code",
   "execution_count": 8,
   "id": "c962f15e-1e42-4950-8f00-8a65434c44bf",
   "metadata": {},
   "outputs": [
    {
     "name": "stdout",
     "output_type": "stream",
     "text": [
      "Sales by Product:\n"
     ]
    },
    {
     "name": "stderr",
     "output_type": "stream",
     "text": [
      "C:\\Users\\DELL\\AppData\\Local\\Temp\\ipykernel_8008\\1018793245.py:7: FutureWarning: 'M' is deprecated and will be removed in a future version, please use 'ME' instead.\n",
      "  monthly_sales = df['Sales'].resample('M').sum()\n"
     ]
    },
    {
     "data": {
      "text/plain": [
       "Product\n",
       "Widget B    448.50\n",
       "Widget A    379.62\n",
       "Widget C    372.00\n",
       "Name: Sales, dtype: float64"
      ]
     },
     "metadata": {},
     "output_type": "display_data"
    },
    {
     "name": "stdout",
     "output_type": "stream",
     "text": [
      "\n",
      "Sales by Region:\n"
     ]
    },
    {
     "data": {
      "text/plain": [
       "Region\n",
       "North    405.90\n",
       "West     383.85\n",
       "East     216.93\n",
       "South    193.44\n",
       "Name: Sales, dtype: float64"
      ]
     },
     "metadata": {},
     "output_type": "display_data"
    },
    {
     "name": "stdout",
     "output_type": "stream",
     "text": [
      "\n",
      "Monthly Sales:\n"
     ]
    },
    {
     "data": {
      "text/plain": [
       "Date\n",
       "2025-01-31    197.40\n",
       "2025-02-28    165.93\n",
       "2025-03-31    293.94\n",
       "2025-04-30    186.00\n",
       "2025-05-31    149.85\n",
       "2025-06-30     75.00\n",
       "2025-07-31    132.00\n",
       "Freq: ME, Name: Sales, dtype: float64"
      ]
     },
     "metadata": {},
     "output_type": "display_data"
    }
   ],
   "source": [
    "# Cell 6 - aggregations: product, region, monthly\n",
    "prod_sales = df.groupby('Product')['Sales'].sum().sort_values(ascending=False)\n",
    "region_sales = df.groupby('Region')['Sales'].sum().sort_values(ascending=False)\n",
    "\n",
    "# monthly total using the Date column\n",
    "df = df.set_index('Date')  # set Date index\n",
    "monthly_sales = df['Sales'].resample('M').sum()\n",
    "\n",
    "print(\"Sales by Product:\")\n",
    "display(prod_sales)\n",
    "print(\"\\nSales by Region:\")\n",
    "display(region_sales)\n",
    "print(\"\\nMonthly Sales:\")\n",
    "display(monthly_sales)\n"
   ]
  },
  {
   "cell_type": "code",
   "execution_count": 9,
   "id": "275a155a-fb93-4fe1-ba21-330f8b756e3e",
   "metadata": {},
   "outputs": [
    {
     "data": {
      "image/png": "[encoded data removed]",
      "text/plain": [
       "<Figure size 800x500 with 1 Axes>"
      ]
     },
     "metadata": {},
     "output_type": "display_data"
    },
    {
     "data": {
      "image/png": "[encoded data removed]",
      "text/plain": [
       "<Figure size 800x500 with 1 Axes>"
      ]
     },
     "metadata": {},
     "output_type": "display_data"
    },
    {
     "data": {
      "image/png": "[encoded data removed]",
      "text/plain": [
       "<Figure size 1000x400 with 1 Axes>"
      ]
     },
     "metadata": {},
     "output_type": "display_data"
    }
   ],
   "source": [
    "# Cell 7 - plots (saved to files)\n",
    "plt.figure(figsize=(8,5))\n",
    "prod_sales.plot(kind='bar')\n",
    "plt.title('Sales by Product')\n",
    "plt.ylabel('Sales')\n",
    "plt.tight_layout()\n",
    "plt.savefig('sales_by_product.png', dpi=150)\n",
    "plt.show()\n",
    "\n",
    "plt.figure(figsize=(8,5))\n",
    "region_sales.plot(kind='bar')\n",
    "plt.title('Sales by Region')\n",
    "plt.ylabel('Sales')\n",
    "plt.tight_layout()\n",
    "plt.savefig('sales_by_region.png', dpi=150)\n",
    "plt.show()\n",
    "\n",
    "plt.figure(figsize=(10,4))\n",
    "monthly_sales.plot(marker='o')\n",
    "plt.title('Monthly Sales Trend')\n",
    "plt.ylabel('Sales')\n",
    "plt.tight_layout()\n",
    "plt.savefig('monthly_sales_trend.png', dpi=150)\n",
    "plt.show()\n"
   ]
  },
  {
   "cell_type": "markdown",
   "id": "03fba014-e63d-4f54-ba5c-3bc1ba2f1560",
   "metadata": {},
   "source": [
    "## Insights (example)\n",
    "- Top product: *replace this with the top product shown above*\n",
    "- Top region: *replace with top region*\n",
    "- Monthly trend: *note if sales rise or fall in plotted months*\n"
   ]
  },
  {
   "cell_type": "code",
   "execution_count": null,
   "id": "57770165-4ae8-4f8b-87f5-be046232229f",
   "metadata": {},
   "outputs": [],
   "source": []
  }
 ],
 "metadata": {
  "kernelspec": {
   "display_name": "Python [conda env:base] *",
   "language": "python",
   "name": "conda-base-py"
  },
  "language_info": {
   "codemirror_mode": {
    "name": "ipython",
    "version": 3
   },
   "file_extension": ".py",
   "mimetype": "text/x-python",
   "name": "python",
   "nbconvert_exporter": "python",
   "pygments_lexer": "ipython3",
   "version": "3.13.5"
  }
 },
 "nbformat": 4,
 "nbformat_minor": 5
}
